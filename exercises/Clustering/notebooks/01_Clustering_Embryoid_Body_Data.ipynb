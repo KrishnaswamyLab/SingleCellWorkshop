{
 "cells": [
  {
   "cell_type": "code",
   "execution_count": null,
   "metadata": {},
   "outputs": [],
   "source": [
    "!pip install --user phate scprep umap-learn tasklogger magic-impute \n",
    "!pip install --user git+https://github.com/jacoblevine/phenograph.git"
   ]
  },
  {
   "cell_type": "markdown",
   "metadata": {},
   "source": [
    "We'll install `louvain` by downloading a precompiled version, because it takes a while. You could install it simply by running\n",
    "\n",
    "    pip install --user louvain"
   ]
  },
  {
   "cell_type": "code",
   "execution_count": null,
   "metadata": {},
   "outputs": [],
   "source": [
    "import scprep\n",
    "scprep.io.download.download_google_drive(\"1cpwiEVJhEhXPNvO3K6-jxEg3k3H-d1Sg\", \"python_igraph-0.7.1.post6-cp36-cp36m-linux_x86_64.whl\")\n",
    "scprep.io.download.download_google_drive(\"1IsD8uMy_7g-yydMRy2W6Mc4XLqXaF6ea\", \"louvain-0.6.1-cp36-cp36m-linux_x86_64.whl\")"
   ]
  },
  {
   "cell_type": "code",
   "execution_count": null,
   "metadata": {},
   "outputs": [],
   "source": [
    "!pip install --user python_igraph-0.7.1.post6-cp36-cp36m-linux_x86_64.whl louvain-0.6.1-cp36-cp36m-linux_x86_64.whl"
   ]
  },
  {
   "cell_type": "code",
   "execution_count": null,
   "metadata": {},
   "outputs": [],
   "source": [
    "import numpy as np\n",
    "import pandas as pd\n",
    "import matplotlib.pyplot as plt\n",
    "import seaborn as sns\n",
    "%matplotlib inline\n",
    "\n",
    "import sklearn\n",
    "import sklearn.cluster\n",
    "import sklearn.manifold\n",
    "\n",
    "import os\n",
    "import tasklogger\n",
    "import phate\n",
    "import umap\n",
    "\n",
    "import graphtools as gt\n",
    "import magic\n",
    "import phenograph\n",
    "import louvain"
   ]
  },
  {
   "cell_type": "markdown",
   "metadata": {
    "colab_type": "text",
    "id": "XUF17reyacVy"
   },
   "source": [
    "<a id='loading'></a>\n",
    "# 1. Loading preprocessed data"
   ]
  },
  {
   "cell_type": "markdown",
   "metadata": {},
   "source": [
    "### Load EB Data (and download if needed)"
   ]
  },
  {
   "cell_type": "code",
   "execution_count": null,
   "metadata": {},
   "outputs": [],
   "source": [
    "file_path = os.path.expanduser('~/EBT_counts.pkl.gz')\n",
    "if not os.path.exists(file_path):\n",
    "    scprep.io.download.download_google_drive(id='1Xz0ONnRWp2MLC_R6r74MzNwaZ4DkQPcM',\n",
    "                                             destination=file_path)\n",
    "data = scprep.utils.SparseDataFrame(pd.read_pickle(file_path))"
   ]
  },
  {
   "cell_type": "code",
   "execution_count": null,
   "metadata": {},
   "outputs": [],
   "source": [
    "metadata = pd.DataFrame([ix.split('_')[1] for ix in data.index], columns=['sample'], index=data.index)"
   ]
  },
  {
   "cell_type": "markdown",
   "metadata": {
    "colab_type": "text",
    "id": "-k_SJQBtgc12"
   },
   "source": [
    "# 2. Imputation using MAGIC\n",
    "\n",
    "As we mentioned, because scRNA-seq, suffers from dropout (the undercounting of mRNA molecules in single cells), examining expression lowly expressed genes can be challenging. To overcome this, we developed a method for imputation called MAGIC (Markov Affinity Graph Imputation in Cells; [PMID: 29961576 ](https://www.ncbi.nlm.nih.gov/pubmed/29961576)). \n",
    "\n",
    "Without going into too much detail about how it works, the basic idea is that although gene expression counts in each cell are unreliable, the gene expression counts matrix contains several degrees of redundancy between genes (i.e. expression of genes is not completely indepdent) and among cells (i.e. we see very similar cells more than once).\n",
    "\n",
    "A full description of MAGIC can be found in the paper, and on our website: [Denoising and imputing scRNA-seq data](https://www.krishnaswamylab.org/blog/2018/10/28/denoising-noisy-gene-expression-in-scrna-seq).\n",
    "\n",
    "#### Running MAGIC\n",
    "\n",
    "Because MAGIC returns a dense matrix (many zeros in the counts matrix are removed), we only want to keep expression of a few marker genes. The list in the following cell was gathering while analyzing the data, and we'll look at them later.\n",
    "\n"
   ]
  },
  {
   "cell_type": "code",
   "execution_count": null,
   "metadata": {},
   "outputs": [],
   "source": [
    "marker_genes = scprep.select.get_gene_set(data, exact_word=[\n",
    "    'ARID3A', 'ASCL2',  'CD34', 'CDX2', 'CER1', 'DLX1',\n",
    "    'DMRT3', 'EN2', 'EOMES', 'FOXA2', 'FOXD3-AS1', 'GATA3-AS1',\n",
    "    'GATA4', 'GATA5', 'GATA6-AS1', 'GBX2', 'GLI3', 'HOXA2',\n",
    "    'HOXB1', 'HOXB4', 'HOXD13', 'HOXD9', 'ISL1', 'KLF5',\n",
    "    'KLF7', 'LEF1', 'LHX2', 'LHX5', 'LMX1A', 'MAP2',\n",
    "    'MIXL1', 'MYCBP', 'NANOG', 'NES', 'NKX2-1', 'NKX2-5',\n",
    "    'NKX2-8', 'NPAS1', 'NR2F1-AS1', 'OLIG1', 'OLIG3', 'ONECUT1',\n",
    "    'ONECUT2', 'OTX2', 'PAX3', 'PAX6', 'PDGFRA', 'PECAM1',\n",
    "    'POU5F1', 'SATB1', 'SIX2', 'SIX3-AS1', 'SIX6', 'SOX13',\n",
    "    'SOX10', 'SOX15', 'SOX17', 'SOX9', 'TTLL10', 'TAL1',\n",
    "    'TBX15', 'TBX18', 'TBX5', 'TNNT2', 'WT1', 'ZBTB16',\n",
    "    'ZIC2', 'ZIC5', 'ACTB', 'HAND1'])\n",
    "marker_genes"
   ]
  },
  {
   "cell_type": "code",
   "execution_count": null,
   "metadata": {},
   "outputs": [],
   "source": [
    "data_magic = magic.MAGIC().fit_transform(data, genes=marker_genes)"
   ]
  },
  {
   "cell_type": "code",
   "execution_count": null,
   "metadata": {
    "colab": {
     "base_uri": "https://localhost:8080/",
     "height": 345
    },
    "colab_type": "code",
    "id": "iPLr1nyxruYN",
    "outputId": "130e69b6-2024-4b63-c569-008040b0f494"
   },
   "outputs": [],
   "source": [
    "data_magic.head()"
   ]
  },
  {
   "cell_type": "markdown",
   "metadata": {},
   "source": [
    "# 3. Visualizing the data\n",
    "\n",
    "We've already spent time discussing visualizations of this data using tSNE, PHATE, and UMAP. Here, we're going to focus on PHATE, but feel free to try running another algorithm here."
   ]
  },
  {
   "cell_type": "code",
   "execution_count": null,
   "metadata": {},
   "outputs": [],
   "source": [
    "data_phate = phate.PHATE().fit_transform(data)\n",
    "# alternative: umap.UMAP(), sklearn.manifold.TSNE()\n",
    "data_phate = pd.DataFrame(data_phate, index=data.index)"
   ]
  },
  {
   "cell_type": "code",
   "execution_count": null,
   "metadata": {},
   "outputs": [],
   "source": [
    "scprep.plot.scatter2d(data_phate, c=metadata['sample'], figsize=(12,8), cmap=\"Spectral\",\n",
    "                      ticks=False, label_prefix=\"PHATE\")"
   ]
  },
  {
   "cell_type": "markdown",
   "metadata": {
    "colab_type": "text",
    "id": "k6UyziMRtouP"
   },
   "source": [
    "# 4. Clustering"
   ]
  },
  {
   "cell_type": "markdown",
   "metadata": {
    "colab_type": "text",
    "id": "KhZ73Xo2touQ"
   },
   "source": [
    "## 4.1 Introduction to clustering\n",
    "\n",
    "#### What is clustering?\n",
    "\n",
    "The goal of clustering is to identify a partition of the data such that all of the observations within each partition (called a cluster) are more similar to each other than they are to those in other clusters. Many clustering algorithms exist, and they each have their own quirks (just like visualization algorithms). `sklearn` has implementations for some of the most popular ones and their [User Guide on Clustering](https://scikit-learn.org/stable/modules/clustering.html) is a good resource to understand general clustering approaches."
   ]
  },
  {
   "cell_type": "code",
   "execution_count": null,
   "metadata": {},
   "outputs": [],
   "source": [
    "data_pca = scprep.reduce.pca(data, n_components=50, method='dense')"
   ]
  },
  {
   "cell_type": "code",
   "execution_count": null,
   "metadata": {},
   "outputs": [],
   "source": [
    "phenograph_clusters, _, _ = phenograph.cluster(data_pca)"
   ]
  },
  {
   "cell_type": "code",
   "execution_count": null,
   "metadata": {},
   "outputs": [],
   "source": [
    "with tasklogger.log_task(\"KMeans\"):\n",
    "    kmeans_clusters = sklearn.cluster.KMeans(n_clusters=20).fit_predict(data_pca)"
   ]
  },
  {
   "cell_type": "code",
   "execution_count": null,
   "metadata": {},
   "outputs": [],
   "source": [
    "G = gt.Graph(data_pca)\n",
    "G_igraph = G.to_igraph()"
   ]
  },
  {
   "cell_type": "code",
   "execution_count": null,
   "metadata": {},
   "outputs": [],
   "source": [
    "with tasklogger.log_task(\"Louvain\"):\n",
    "    partition = louvain.find_partition(G_igraph, louvain.RBConfigurationVertexPartition, \n",
    "                                       weights=\"weight\", resolution_parameter=1)\n",
    "    louvain_clusters = np.array(partition.membership)"
   ]
  },
  {
   "cell_type": "code",
   "execution_count": null,
   "metadata": {},
   "outputs": [],
   "source": [
    "with tasklogger.log_task(\"Spectral clustering\"):\n",
    "    spec_op = sklearn.cluster.SpectralClustering(n_clusters=20, affinity='precomputed')\n",
    "    spectral_clusters = spec_op.fit_predict(G.K)"
   ]
  },
  {
   "cell_type": "markdown",
   "metadata": {
    "colab_type": "text",
    "id": "LL_nIyb6touS"
   },
   "source": [
    "## 4.2 Clustering single cell data\n",
    "\n",
    "#### Clustering methods for single cell RNA-seq\n",
    "\n",
    "In the previous exercise, we compared three popular algorithms for clustering: KMeans, Spectral Clustering, and Louvain."
   ]
  },
  {
   "cell_type": "markdown",
   "metadata": {
    "colab_type": "text",
    "id": "etsQ3lS20QNT"
   },
   "source": [
    "#### Reordering clusters by PHATE coordinates\n",
    "\n",
    "By default, cluster numbers are meaningless. This makes it difficult to compare clusterings, because cluster \"0\" can refer to entirely different cells between runs of the same algorithm.\n",
    "\n",
    "To enforce some consistency, we are going to reorder the clusters so that cluster \"0\" is always on the far right of the PHATE plot, and the highest-numbered cluster is always on the far left."
   ]
  },
  {
   "cell_type": "code",
   "execution_count": null,
   "metadata": {},
   "outputs": [],
   "source": [
    "clusterings = {'Phenograph':phenograph_clusters,\n",
    "               'Louvain':louvain_clusters, \n",
    "               'KMeans':kmeans_clusters, \n",
    "               'Spectral':spectral_clusters}\n",
    "\n",
    "for alg in clusterings:\n",
    "    cl_nu = scprep.utils.sort_clusters_by_values(clusterings[alg], -data_phate.iloc[:,0])\n",
    "    clusterings[alg] = cl_nu"
   ]
  },
  {
   "cell_type": "markdown",
   "metadata": {},
   "source": [
    "#### Plotting clusters with PHATE\n",
    "\n",
    "Above, we colored our scatter plots using expression of a marker gene. However, we can use any information with one value per cell to color the plot. Here, we're using the cluster identity."
   ]
  },
  {
   "cell_type": "code",
   "execution_count": null,
   "metadata": {
    "colab": {
     "base_uri": "https://localhost:8080/",
     "height": 502
    },
    "colab_type": "code",
    "id": "xOiVxvuDtoud",
    "outputId": "fc14d2ea-ec65-4310-d14b-ed8ccafb86b3"
   },
   "outputs": [],
   "source": [
    "fig, axes = plt.subplots(2,2, figsize=(16,16))\n",
    "\n",
    "for ax, algorithm in zip(axes.flatten(), clusterings):\n",
    "    scprep.plot.scatter2d(data_phate, c=clusterings[algorithm], cmap=plt.cm.tab20,\n",
    "                          title='{} - ({})'.format(algorithm, len(np.unique(clusterings[alg]))), \n",
    "                          ticks=False, label_prefix=\"PHATE\", legend=False, discrete=True,\n",
    "                          ax=ax)"
   ]
  },
  {
   "cell_type": "markdown",
   "metadata": {
    "colab_type": "text",
    "id": "2XI42YRQtoug"
   },
   "source": [
    "We can also plot each cluster individually to see where they are on the PHATE plot\n",
    "\n",
    "\n"
   ]
  },
  {
   "cell_type": "code",
   "execution_count": null,
   "metadata": {
    "colab": {
     "base_uri": "https://localhost:8080/",
     "height": 1737
    },
    "colab_type": "code",
    "id": "GOMdMdfotoug",
    "outputId": "7ec17169-0607-4eab-d9fc-80cc8d83a9a1",
    "scrolled": false
   },
   "outputs": [],
   "source": [
    "n_rows = 7\n",
    "n_cols = 3\n",
    "\n",
    "fig, axes = plt.subplots(n_rows, n_cols, figsize=(n_cols*4,n_rows*4))\n",
    "axes = axes.flatten()\n",
    "clusters = clusterings['Spectral']\n",
    "cluster_ids = np.unique(clusters)\n",
    "for i in range(len(axes)):\n",
    "    ax = axes[i]\n",
    "    try:\n",
    "        curr_cluster = cluster_ids[i]\n",
    "        # Returns array([False, True,...,False]) indicating if each cell is in the\n",
    "        # current cluster\n",
    "        curr_mask = clusters == curr_cluster  \n",
    "        scprep.plot.scatter2d(data_phate, c=curr_mask,\n",
    "                              cmap={True: plt.cm.tab20.colors[i], False: 'grey'},\n",
    "                              ticks=False, label_prefix='PHATE', ax=ax)\n",
    "    except IndexError:\n",
    "        # we have more axes than clusters\n",
    "        ax.axis('off')\n",
    "\n",
    "\n",
    "fig.tight_layout()"
   ]
  },
  {
   "cell_type": "markdown",
   "metadata": {},
   "source": [
    "### How quantitatively similar are the clustering algorithms?\n",
    "\n",
    "We can use a metric, called the adjusted rand score, to quantify how similar any given clustering results are to each other. This is a similarity metric, so two identical clusterings will produce a score of `1.0`. If every point is randomly assigned to different clusters, then the adjusted rand score will be close to `0.0`. You can learn more about this metric in the `sklearn` user guide: https://scikit-learn.org/stable/modules/clustering.html#adjusted-rand-score."
   ]
  },
  {
   "cell_type": "markdown",
   "metadata": {},
   "source": [
    "#### Grouping all of the cluster vectors into a single array\n",
    "\n",
    "Reading the following code, can you guess what shape `all_clusterings` will be at the end of the code block? "
   ]
  },
  {
   "cell_type": "code",
   "execution_count": null,
   "metadata": {},
   "outputs": [],
   "source": [
    "all_clusterings = []\n",
    "all_algorithms = list(clusterings.keys())\n",
    "for algo in all_algorithms:\n",
    "    all_clusterings.append(clusterings[algo])    \n",
    "all_clusterings = np.vstack(all_clusterings)"
   ]
  },
  {
   "cell_type": "markdown",
   "metadata": {},
   "source": [
    "Here, we're using `pdist` with a custom distance metric. Note, `sklearn.metrics.adjusted_rand_score` is actually a similarity metric, not a distance metric. So this code is not good practice and qualifies as a hack. That being said, it works."
   ]
  },
  {
   "cell_type": "code",
   "execution_count": null,
   "metadata": {},
   "outputs": [],
   "source": [
    "from scipy.spatial.distance import pdist, squareform\n",
    "cluster_similarities = squareform(pdist(all_clusterings, metric=sklearn.metrics.adjusted_rand_score))\n",
    "# squareform assumes diagonals will be 0, but they're actually 1 because this is a similarity metric\n",
    "# so we need to add 1's on the diagonal with np.eye()\n",
    "cluster_similarities = cluster_similarities + np.eye(4)"
   ]
  },
  {
   "cell_type": "markdown",
   "metadata": {},
   "source": [
    "#### Plot a clustermap of distances\n",
    "\n",
    "With your partner, interpret this heatmap. Which cluster results are the most similar or different?"
   ]
  },
  {
   "cell_type": "code",
   "execution_count": null,
   "metadata": {},
   "outputs": [],
   "source": [
    "sns.clustermap(cluster_similarities, xticklabels=all_algorithms, yticklabels=all_algorithms)"
   ]
  },
  {
   "cell_type": "markdown",
   "metadata": {
    "colab_type": "text",
    "id": "j5TuEuBstoul"
   },
   "source": [
    "\n",
    "\n",
    "## Characterizing clusters\n",
    "\n",
    "Now, we want to characterize gene expression in each cluster to identify the cell type of that cluster. Cell type is easy to grasp intuitively, but hard to formalize. Generally, we want a cell that expresses a set of genes differently than the rest of the cells in the dataset. As part of writing the PHATE paper, we characterized all the cell types in this time course, and made the following fate map."
   ]
  },
  {
   "cell_type": "markdown",
   "metadata": {
    "colab_type": "text",
    "id": "Odx1vS17Ehp7"
   },
   "source": [
    "<img src=\"https://krishnaswamylab.github.io/img/how_to_single_cell/EB_lineage_map.png\" style=\"height: 40rem;\"/>\n",
    "\n",
    ">Lineage tree of the EB system determined from the PHATE analysis showing embryonic stem cells (ESC), the primitive streak (PS), mesoderm  (ME), endoderm (EN), neuroectoderm (NE), neural crest (NC), neural progenitors (NP), lateral plate ME (LP ME), hemangioblast (H), cardiac (C), epicardial precursors (EP), smooth muscle precursors (SMP), cardiac precursors (CP), and neuronal subtypes (NS)."
   ]
  },
  {
   "cell_type": "markdown",
   "metadata": {
    "colab_type": "text",
    "id": "GjAmOhzMtouo"
   },
   "source": [
    "In groups, you need to examine the expression of these sets of genes and figure out which cell type matches your cluster."
   ]
  },
  {
   "cell_type": "markdown",
   "metadata": {},
   "source": [
    "### Selecting a set of clusters\n",
    "\n",
    "As a table, decide on a clustering result to use for this next exercise. Each pair will then pick a cluster to manually annotate based on known markers."
   ]
  },
  {
   "cell_type": "code",
   "execution_count": null,
   "metadata": {},
   "outputs": [],
   "source": [
    "# ==============\n",
    "# choose your favorite clustering method\n",
    "clusters = clusterings[ ? ]\n",
    "# =============="
   ]
  },
  {
   "cell_type": "markdown",
   "metadata": {
    "colab_type": "text",
    "id": "GjAmOhzMtouo"
   },
   "source": [
    "### Jitterplot\n",
    "\n",
    "The following plot is called a [jitterplot](https://scprep.readthedocs.io/en/stable/examples/jitter.html). This plot is similar to a [violinplot](https://seaborn.pydata.org/generated/seaborn.violinplot.html) or a [swarmplot](https://seaborn.pydata.org/generated/seaborn.swarmplot.html), but is computationally cheaper. The goal of this plot is to examine the distribution of values associated with each cell in a set of clusters.\n",
    "\n",
    "Each point is a cell and the x-axis represents the cluster assignment of that cell. There's a little bit of noise added to the x-position of the cell (that's the jitter). The y-axis represents expression of a given gene.\n",
    "\n",
    "You can change which gene is plotted by changing the `curr_gene` variable. All of the genes in the above plot will work.\n",
    "\n",
    "FYI: when a gene is listed as `ZIC2/5`, this actually represents two genes: `ZIC2` and `ZIC5`.\n",
    "\n",
    "Try running with and without MAGIC and determine which is more helpful for identifying clusters."
   ]
  },
  {
   "cell_type": "markdown",
   "metadata": {},
   "source": [
    "#### Raw data"
   ]
  },
  {
   "cell_type": "code",
   "execution_count": null,
   "metadata": {
    "colab": {
     "base_uri": "https://localhost:8080/",
     "height": 358
    },
    "colab_type": "code",
    "id": "7WneG9litouv",
    "outputId": "d6e9c913-fcbc-43d3-e57c-1b747d461e07"
   },
   "outputs": [],
   "source": [
    "curr_gene = 'POU5F1'\n",
    "curr_expression = scprep.select.select_cols(data, exact_word=curr_gene)\n",
    "scprep.plot.jitter(clusters, curr_expression, c=clusters, figsize=(12, 5),\n",
    "                   legend_anchor=(1,1), title=curr_gene)"
   ]
  },
  {
   "cell_type": "markdown",
   "metadata": {},
   "source": [
    "#### MAGIC\n",
    "\n",
    "Let's plot the same thing with denoised data from MAGIC."
   ]
  },
  {
   "cell_type": "code",
   "execution_count": null,
   "metadata": {
    "colab": {
     "base_uri": "https://localhost:8080/",
     "height": 358
    },
    "colab_type": "code",
    "id": "OHdv7L5pgn1T",
    "outputId": "a6c53ae0-a569-400e-ef7f-dcf275cf420b"
   },
   "outputs": [],
   "source": [
    "curr_gene = 'POU5F1'\n",
    "curr_expression = scprep.select.select_cols(data_magic, exact_word=curr_gene)\n",
    "scprep.plot.jitter(clusters, curr_expression, c=clusters, figsize=(12, 5),\n",
    "                   legend_anchor=(1,1), title=curr_gene)"
   ]
  },
  {
   "cell_type": "markdown",
   "metadata": {
    "colab_type": "text",
    "id": "dRhx3cQYuWlL"
   },
   "source": [
    "#### Examining expression on PHATE\n",
    "\n",
    "The other tool you should use for examining clusters is the PHATE plots we used above. You can change the `genes_for_plotting` list, as long as you keep it restricted to three genes.\n",
    "\n",
    "Again change `data` to `data_magic` and determine if this makes annotating clusters easier."
   ]
  },
  {
   "cell_type": "code",
   "execution_count": null,
   "metadata": {
    "colab": {
     "base_uri": "https://localhost:8080/",
     "height": 317
    },
    "colab_type": "code",
    "id": "zOf9KU2lHJBQ",
    "outputId": "458e3fb3-5c49-4558-b66b-7b483c72d605",
    "scrolled": true
   },
   "outputs": [],
   "source": [
    "fig, axes = plt.subplots(1,3, figsize=(14,4))\n",
    "genes_for_plotting = ['NANOG', 'POU5F1', 'HAND1']\n",
    "\n",
    "for curr_gene, ax in zip(genes_for_plotting, axes.flatten()):\n",
    "    \n",
    "    expression = scprep.select.select_cols(data, exact_word=curr_gene)\n",
    "    \n",
    "    sort_index = expression.sort_values(by=expression.columns[0]).index\n",
    "    \n",
    "    scprep.plot.scatter2d(data_phate.loc[sort_index], c=expression.loc[sort_index], shuffle=False,\n",
    "                         title=curr_gene, ticks=None, label_prefix='PHATE', ax=ax)\n",
    "\n",
    "fig.tight_layout()"
   ]
  },
  {
   "cell_type": "markdown",
   "metadata": {
    "colab_type": "text",
    "id": "T7wk3ydZ9Tuq"
   },
   "source": [
    "## Discussion\n",
    "\n",
    "Now, in your groups, you will be assigned to a cell type from the above lineage map. Please do the following tasks and be prepared to share your conclusions with the rest of the class.\n",
    "1. Identify which cluster corresponds to your cell type of interest. \n",
    "2. Create a PHATE plot that highlights your cells of interest in some way (i.e. shows them in another color). Does this plot make sense with the position of your cell type in the developmental lineage? What information can you learn about your cell type from the PHATE plot?\n",
    "3. Open coding exercise: Create another plot that shows something interesting about your cell type. This plot should answer a biological question, for example:\n",
    "\n",
    "      a. Is the expression of marker genes heterogeneous within your cluster?\n",
    "      \n",
    "      b. Are your cells present at multiple time points?\n",
    "      \n",
    "      c. What other genes are uniquely expressed in your cell type?"
   ]
  },
  {
   "cell_type": "markdown",
   "metadata": {},
   "source": [
    "# Differential expression\n",
    "\n",
    "In the above exercise, we manually inspected known marker genes to annotate clusters. Here, we're going to simply identify the genes that change the most between two groups. As discussed in lecture, there are several ways to calculate differential expression. We are going to focus on the mean-difference and the rank-sum statistic.\n",
    "\n",
    "You can easily calculate basic differential expression statistics using `scprep.stats.differential_expression` and `scprep.stats.differential_expression_by_cluster`. Documentation for these methods can be found at: https://scprep.readthedocs.io/en/stable/reference.html#scprep.stats.differential_expression\n",
    "\n"
   ]
  },
  {
   "cell_type": "code",
   "execution_count": null,
   "metadata": {},
   "outputs": [],
   "source": [
    "data_sparse = scprep.utils.SparseDataFrame(data)"
   ]
  },
  {
   "cell_type": "code",
   "execution_count": null,
   "metadata": {},
   "outputs": [],
   "source": [
    "curr_cluster = 0\n",
    "with tasklogger.log_task(\"t-test\"):\n",
    "    ttest_results = scprep.stats.differential_expression(data_sparse[clusters == curr_cluster], \n",
    "                                                         data_sparse[clusters != curr_cluster], \n",
    "                                                         measure='ttest')"
   ]
  },
  {
   "cell_type": "code",
   "execution_count": null,
   "metadata": {},
   "outputs": [],
   "source": [
    "top_genes = ttest_results['ttest'].abs().sort_values(ascending=False)[:50]"
   ]
  },
  {
   "cell_type": "markdown",
   "metadata": {},
   "source": [
    "#### Print the 20 most differentially expressed genes"
   ]
  },
  {
   "cell_type": "code",
   "execution_count": null,
   "metadata": {},
   "outputs": [],
   "source": [
    "top_genes.head(n=20)"
   ]
  },
  {
   "cell_type": "markdown",
   "metadata": {},
   "source": [
    "### Plotting a histogram of gene expression in your cluster and in all other clusters\n",
    "\n",
    "Hints:\n",
    "\n",
    "1. Use `scprep.plot.histogram` (https://scprep.readthedocs.io/en/dev/reference.html#scprep.plot.histogram). \n",
    " * Note, you can pass an list of expression values to get them plotted on the same axis.\n",
    " * Try using `log='y'` to get a log-scale y-axis\n",
    " * Use `title=` to set the title\n",
    " * The blue / grey histogram is the first group in the list, orange is the rest\n",
    "2. Use the code from the `scprep.stats.differential_expression` to select the rows of a DataFrame in your cluster and not in your cluster\n",
    "3. The gene names are stored in `top_genes.index`. How would you select the 0th item from this index?"
   ]
  },
  {
   "cell_type": "code",
   "execution_count": null,
   "metadata": {},
   "outputs": [],
   "source": [
    "# ======\n",
    "# Write code to create a histogram here\n",
    "curr_gene = \n",
    "expression_in_cluster = \n",
    "expression_not_in_cluster = \n",
    "\n",
    "\n",
    "scprep.plot.histogram(\n",
    "\n",
    "# ======"
   ]
  },
  {
   "cell_type": "markdown",
   "metadata": {},
   "source": [
    "### Creating a heatmap of differentially expressed genes"
   ]
  },
  {
   "cell_type": "markdown",
   "metadata": {},
   "source": [
    "#### Creating a heatmap using `sns.clustermap`\n",
    "\n",
    "First, we'll do the simplest thing and create a simple `clustermap`. "
   ]
  },
  {
   "cell_type": "code",
   "execution_count": null,
   "metadata": {},
   "outputs": [],
   "source": [
    "sns.clustermap(data_sparse[top_genes.index].T)"
   ]
  },
  {
   "cell_type": "markdown",
   "metadata": {},
   "source": [
    "#### Why does this look bad?\n",
    "\n",
    "Notice that the ranges of expression for each gene is very different. In order to get a pretty plot, we'll need to normalize the data first."
   ]
  },
  {
   "cell_type": "markdown",
   "metadata": {},
   "source": [
    "### Z-score standardizing the data\n",
    "\n",
    "We can easily z-score standardize the data using `sklearn.preprocessing.StandardScalar`. This will mean-center each columns of the `de_data` and set the standard deviation of each column to 1."
   ]
  },
  {
   "cell_type": "code",
   "execution_count": null,
   "metadata": {},
   "outputs": [],
   "source": [
    "de_data = data_sparse[top_genes.index]\n",
    "de_data_zscore = sklearn.preprocessing.StandardScaler().fit_transform(de_data)"
   ]
  },
  {
   "cell_type": "markdown",
   "metadata": {},
   "source": [
    "#### Generating `col_colors`\n",
    "\n",
    "We can add colors for each column in the clustermap using a `col_colors` variable that has one RBGA or hex color per column of the data."
   ]
  },
  {
   "cell_type": "code",
   "execution_count": null,
   "metadata": {},
   "outputs": [],
   "source": [
    "col_colors = plt.cm.tab20(clusters)"
   ]
  },
  {
   "cell_type": "markdown",
   "metadata": {},
   "source": [
    "#### Calculating color limits so the `cmap` is centered at 0"
   ]
  },
  {
   "cell_type": "code",
   "execution_count": null,
   "metadata": {},
   "outputs": [],
   "source": [
    "lim = np.max(np.abs(de_data_zscore))"
   ]
  },
  {
   "cell_type": "markdown",
   "metadata": {},
   "source": [
    "#### Generating the pretty clustermap"
   ]
  },
  {
   "cell_type": "code",
   "execution_count": null,
   "metadata": {},
   "outputs": [],
   "source": [
    "cg = sns.clustermap(de_data_zscore.T, col_colors=col_colors, cmap='RdBu_r', \n",
    "                    vmin=-lim, vmax=lim, yticklabels=de_data.columns.values)\n",
    "\n",
    "cg.ax_heatmap.figure.set_size_inches(12,12)"
   ]
  },
  {
   "cell_type": "markdown",
   "metadata": {},
   "source": [
    "### Discussion\n",
    "\n",
    "Using the clusters that you annotated in the previous exercise, perform the differential expression analysis for that cluster and generate the above heatmap and histogram. \n",
    "\n",
    "1. What do you notice about how uniformly each gene is expressed in each cluster?\n",
    "2. How well does the clustermap separate your cluster from other clusters based on each individual gene?\n",
    "3. Try plotting heatmaps for the 500-550th most DE genes or the 7000-7050 most DE genes. Try the 50 least differentially expressed genes. What do you notice about these plots compared to the ones for the most DE genes?\n",
    "\n",
    "\n",
    "\n"
   ]
  }
 ],
 "metadata": {
  "kernelspec": {
   "display_name": "Python 3",
   "language": "python",
   "name": "python3"
  },
  "language_info": {
   "codemirror_mode": {
    "name": "ipython",
    "version": 3
   },
   "file_extension": ".py",
   "mimetype": "text/x-python",
   "name": "python",
   "nbconvert_exporter": "python",
   "pygments_lexer": "ipython3",
   "version": "3.7.3"
  }
 },
 "nbformat": 4,
 "nbformat_minor": 2
}
