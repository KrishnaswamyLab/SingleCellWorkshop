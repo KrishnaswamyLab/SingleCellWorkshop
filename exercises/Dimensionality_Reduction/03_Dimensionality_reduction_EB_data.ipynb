{
 "cells": [
  {
   "cell_type": "code",
   "execution_count": null,
   "metadata": {},
   "outputs": [],
   "source": [
    "!pip install --user scprep phate umap-learn"
   ]
  },
  {
   "cell_type": "markdown",
   "metadata": {},
   "source": [
    "# Dimensionality reduction on the EB time course"
   ]
  },
  {
   "cell_type": "markdown",
   "metadata": {
    "colab_type": "text",
    "id": "XUF17reyacVy"
   },
   "source": [
    "<a id='loading'></a>\n",
    "## 1. Loading preprocessed data"
   ]
  },
  {
   "cell_type": "markdown",
   "metadata": {},
   "source": [
    "### Load EB Data (and download if needed)"
   ]
  },
  {
   "cell_type": "code",
   "execution_count": null,
   "metadata": {},
   "outputs": [],
   "source": [
    "import numpy as np\n",
    "import pandas as pd\n",
    "import matplotlib.pyplot as plt\n",
    "%matplotlib inline\n",
    "\n",
    "import phate\n",
    "import umap\n",
    "import scprep\n",
    "import os"
   ]
  },
  {
   "cell_type": "code",
   "execution_count": null,
   "metadata": {},
   "outputs": [],
   "source": [
    "file_path = os.path.expanduser('~/EBT_counts.pkl.gz')\n",
    "if not os.path.exists(file_path):\n",
    "    scprep.io.download.download_google_drive(id='1Xz0ONnRWp2MLC_R6r74MzNwaZ4DkQPcM',\n",
    "                        destination=file_path)\n",
    "data = scprep.utils.SparseDataFrame(pd.read_pickle(file_path))"
   ]
  },
  {
   "cell_type": "code",
   "execution_count": null,
   "metadata": {},
   "outputs": [],
   "source": [
    "metadata = pd.DataFrame([ix.split('_')[1] for ix in data.index], columns=['sample'], index=data.index)"
   ]
  },
  {
   "cell_type": "markdown",
   "metadata": {
    "colab_type": "text",
    "id": "4I9oXjp-totO"
   },
   "source": [
    "## 2. Visualization using Principle Components Analysis (PCA)\n",
    "\n",
    "Here we're going to use the simplest dimensionality reduction method first. We don't expect PCA to work well because the dataset is so complex, but it's a good place to start with any dataset."
   ]
  },
  {
   "cell_type": "markdown",
   "metadata": {
    "colab_type": "text",
    "id": "ihdSOUcttotP"
   },
   "source": [
    "#### Running PCA on the EB data"
   ]
  },
  {
   "cell_type": "code",
   "execution_count": null,
   "metadata": {
    "colab": {},
    "colab_type": "code",
    "id": "tj1k_CkDtotQ"
   },
   "outputs": [],
   "source": [
    "data_pca = scprep.reduce.pca(data, n_components=50, method='dense')"
   ]
  },
  {
   "cell_type": "code",
   "execution_count": null,
   "metadata": {
    "colab": {
     "base_uri": "https://localhost:8080/",
     "height": 328
    },
    "colab_type": "code",
    "id": "4VFdIXCbUABP",
    "outputId": "35f9340b-18bc-42a8-9128-cf9f35664565"
   },
   "outputs": [],
   "source": [
    "data_pca.head()"
   ]
  },
  {
   "cell_type": "markdown",
   "metadata": {
    "colab_type": "text",
    "id": "0RtymzYStotS"
   },
   "source": [
    "#### Plotting PCs using `scprep.plot`\n",
    "\n",
    "The scprep package has a number of handy plotting features that act as a wrapper to `matplotlib`. You should know how to use `matplotlib` for more complicated plotting, but you can make all the plots we need in this tutorial with some help from `scprep`.\n",
    "\n",
    "The full documentaiton of `scprep.plot` can be found here:\n",
    "\n",
    "https://scprep.readthedocs.io/en/stable/reference.html#module-scprep.plot"
   ]
  },
  {
   "cell_type": "code",
   "execution_count": null,
   "metadata": {
    "colab": {
     "base_uri": "https://localhost:8080/",
     "height": 585
    },
    "colab_type": "code",
    "id": "OKyyL0tEtotT",
    "outputId": "4635f9c6-9505-4d0e-de50-737560f5bd50"
   },
   "outputs": [],
   "source": [
    "# Create a figure (the background) and a set of axes (the things we plot on)\n",
    "fig, axes = plt.subplots(2,3, figsize=(12,8))\n",
    "# This makes it easier to iterate through the axes\n",
    "axes = axes.flatten()\n",
    "\n",
    "for i, ax in enumerate(axes):\n",
    "    # only plot a legend on one axis\n",
    "    legend = True if i == 2 else False\n",
    "    # There are a lot of parameters here, you can find the full scatter documentation at\n",
    "    # https://scprep.readthedocs.io/en/stable/reference.html#scprep.plot.scatter\n",
    "    scprep.plot.scatter(data_pca.iloc[:,i], data_pca.iloc[:,i+1], c=metadata['sample'],\n",
    "                        cmap='Spectral', ax=ax,\n",
    "                        label_prefix=\"PC\", legend=legend)\n",
    "fig.tight_layout()"
   ]
  },
  {
   "cell_type": "markdown",
   "metadata": {
    "colab_type": "text",
    "id": "qHJ8I6wctotV"
   },
   "source": [
    "#### Plotting expression of a gene on the first two PCs\n",
    "\n",
    "Now let's plot expression of some genes!\n"
   ]
  },
  {
   "cell_type": "code",
   "execution_count": null,
   "metadata": {
    "colab": {
     "base_uri": "https://localhost:8080/",
     "height": 293
    },
    "colab_type": "code",
    "id": "ocj7yQEitotW",
    "outputId": "93bc9496-b1b1-4a6b-ddf8-5f41fa9988f5"
   },
   "outputs": [],
   "source": [
    "gene = 'SOX10'\n",
    "\n",
    "expression = scprep.select.select_cols(data, starts_with=gene)\n",
    "\n",
    "# we will sort cells by maximum expression so we can see where the gene is expressed\n",
    "sort_index = expression.sort_values(by=expression.columns[0]).index\n",
    "\n",
    "scprep.plot.scatter2d(data_pca.loc[sort_index], c=expression.loc[sort_index], shuffle=False,\n",
    "                     title=gene, ticks=None, label_prefix='PC')"
   ]
  },
  {
   "cell_type": "code",
   "execution_count": null,
   "metadata": {
    "colab": {
     "base_uri": "https://localhost:8080/",
     "height": 293
    },
    "colab_type": "code",
    "id": "rGHZZFJ6totZ",
    "outputId": "17c8d62a-47b0-48ec-c1e0-e6dc742aee53"
   },
   "outputs": [],
   "source": [
    "gene = 'ACTB'\n",
    "\n",
    "# ================\n",
    "# Sort cells by maximum expression of ACTB and plot the result on PCA\n",
    "expression = \n",
    "\n",
    "sort_index = \n",
    "\n",
    "scprep.plot.scatter2d(\n",
    "# ==============="
   ]
  },
  {
   "cell_type": "code",
   "execution_count": null,
   "metadata": {
    "colab": {
     "base_uri": "https://localhost:8080/",
     "height": 293
    },
    "colab_type": "code",
    "id": "lSrafG4ytotc",
    "outputId": "e1f39655-cddc-40d7-f4f5-337d9430d67f"
   },
   "outputs": [],
   "source": [
    "gene = 'HAND1'\n",
    "\n",
    "# ================\n",
    "# Sort cells by maximum expression of HAND1 and plot the result on PCA\n",
    "expression = \n",
    "\n",
    "sort_index = \n",
    "\n",
    "scprep.plot.scatter2d(\n",
    "# ==============="
   ]
  },
  {
   "cell_type": "markdown",
   "metadata": {
    "colab_type": "text",
    "id": "lzz9yJqRtote"
   },
   "source": [
    "### Discussion\n",
    "\n",
    "What do you notice? What does the *first* principle component track with? What about the *second*? What do you think the higher PCs represent? What does that mean?\n",
    "\n",
    "Why did we plot gene expression on the first two PCs?\n",
    "\n",
    "Look up the function of these genes. What do you notice about where these genes are expressed? What does it mean when a gene is expressed everywhere vs. in one region?\n",
    "\n",
    "#### _Breakpoint_  - once you get here, please help those around you!"
   ]
  },
  {
   "cell_type": "markdown",
   "metadata": {
    "colab_type": "text",
    "id": "K5iNwoi_totf"
   },
   "source": [
    "## 3. t-SNE\n",
    "\n",
    "#### How to use t-SNE effectively\n",
    "\n",
    "Unlike PCA, t-SNE has *hyperparameters* these are user-specified options that determine the output of t-SNE. Having hyperparameters isn't bad, but it is essential to understand what the hyperparameters are, what the effect of hyperpameter choices have on output, and how to select the best set of hyperparameters for a given research objective.\n",
    "\n",
    "In 2016, a group from Google Brain published great essay in Distill about [\"How to Use t-SNE Effectively\"](https://distill.pub/2016/misread-tsne/). In the article, they provide an interactive tool to explore the effect of various hyperparameters of t-SNE on various datasets.\n",
    "\n",
    "There are two main hyperparameters for t-SNE: **perplexity** and **learning rate** (sometimes called epsilon). Perplexity determines the \"neighborhood size\". Larger values of perplexity increase the number of points within the neighborhood. The reccomended range of t-SNE perplexity is roughly 5-50. Learning rate affects how quickly the algorithm \"stablilizes\". You probably don't need to change this, but should understand what it is.\n",
    "\n",
    "#### Running t-SNE on the embryoid body data\n",
    "\n",
    "tSNE is implemented in `scikit-learn`. t-SNE is a manifold learning algorithm and you can find the t-SNE operator at [`sklearn.manifold.TNSE`](https://scikit-learn.org/stable/modules/generated/sklearn.manifold.TSNE.html).\n",
    "\n",
    "We create a t-SNE operator and run it on data just like the PCA operator\n",
    "\n",
    "```python\n",
    "from sklearn.manifold import TSNE\n",
    "tsne_op = TSNE(n_components=2, perplexity=30)\n",
    "data_tsne = tsne_op.fit_transform(data)\n",
    "```\n",
    "\n",
    "### Excercise\n",
    "\n",
    "In your groups, run TSNE on the EB dataset. Each person should pick a different perplexity. Note, in the following code block, we're using the first 20 PC components to speed up the run time (it should take 3-5 minutes to run). You can try changing the number of PCs and seeing how this affects output after the workshop. Think about why changing the number of PCs affects output.\n",
    "\n",
    "What are the differences you see?\n",
    "\n",
    "Try running t-SNE with the same parameters twice. What happens? Why?"
   ]
  },
  {
   "cell_type": "code",
   "execution_count": null,
   "metadata": {
    "colab": {
     "base_uri": "https://localhost:8080/",
     "height": 50
    },
    "colab_type": "code",
    "id": "hOgtpQkftotg",
    "outputId": "204fcb53-5e5f-4ec7-b3fe-e74767d46256"
   },
   "outputs": [],
   "source": [
    "from sklearn.manifold import TSNE\n",
    "\n",
    "import tasklogger\n",
    "with tasklogger.log_task('tSNE on {} cells'.format(data_pca.shape[0])):\n",
    "\n",
    "    # Fitting tSNE. Change the perplexity here.\n",
    "    tsne_op = TSNE(n_components=2, perplexity=30)\n",
    "    data_tsne = tsne_op.fit_transform(data_pca.iloc[:,:20])\n",
    "\n",
    "    # Put output into a dataframe\n",
    "    data_tsne = pd.DataFrame(data_tsne, index=data.index)"
   ]
  },
  {
   "cell_type": "code",
   "execution_count": null,
   "metadata": {
    "colab": {
     "base_uri": "https://localhost:8080/",
     "height": 340
    },
    "colab_type": "code",
    "id": "uAEvJ6Tctotn",
    "outputId": "48d2a8de-5573-4a01-c89e-b26cebd7b63c"
   },
   "outputs": [],
   "source": [
    "scprep.plot.scatter2d(data_tsne, c=metadata['sample'], cmap='Spectral', \n",
    "                      ticks=False, label_prefix='t-SNE',\n",
    "                      legend_anchor=(1,1), figsize=(7,5))"
   ]
  },
  {
   "cell_type": "markdown",
   "metadata": {
    "colab_type": "text",
    "id": "oIqB8h9Ytotq"
   },
   "source": [
    "#### Let's look at some marker genes!"
   ]
  },
  {
   "cell_type": "code",
   "execution_count": null,
   "metadata": {
    "colab": {
     "base_uri": "https://localhost:8080/",
     "height": 297
    },
    "colab_type": "code",
    "id": "p06QCJ__totr",
    "outputId": "5b6c6870-756f-40d4-91fc-bef409032d59"
   },
   "outputs": [],
   "source": [
    "fig, axes = plt.subplots(1,3, figsize=(14,4))\n",
    "axes = axes.flatten()\n",
    "\n",
    "\n",
    "genes_for_plotting = ['ACTB', 'SOX10', 'HAND1']\n",
    "\n",
    "for gene, ax in zip(genes_for_plotting, axes):\n",
    "    gene_full_name = scprep.select.get_gene_set(data, exact_word=gene)[0]\n",
    "    expression = data[gene_full_name]\n",
    "    \n",
    "    sort_index = expression.sort_values().index\n",
    "    \n",
    "    scprep.plot.scatter2d(data_tsne.loc[sort_index], c=expression.loc[sort_index], shuffle=False,\n",
    "                         title=gene, ticks=None, label_prefix='t-SNE', ax=ax)\n",
    "    \n",
    "fig.tight_layout()"
   ]
  },
  {
   "cell_type": "markdown",
   "metadata": {
    "colab_type": "text",
    "id": "9zRU43DMtot1"
   },
   "source": [
    "### Discussion\n",
    "\n",
    "Now, take some time in your groups to think of some pros and cons of using tSNE. What recommendations would you give to a new user who wants to know which parameters to try?\n",
    "\n",
    "**Note Dan/Scott**: The Discussion sections worked beautifully IRL, because you could look around.  Online format, this probably needs to be more formalized.  Is there a way to force people to discuss these in the groups.  With a group of 4 it might just be possible!\n",
    "\n",
    "#### _Breakpoint_  - once you get here, please help those around you!"
   ]
  },
  {
   "cell_type": "markdown",
   "metadata": {},
   "source": [
    "## 3.3. Embedding Data Using UMAP\n",
    "\n",
    "The syntax for UMAP is identical to t-SNE: `umap.UMAP().fit_transform`. UMAP is relatively fast, so you won't need to use the subsampled data.\n",
    "\n",
    "UMAP's `n_neighbors` parameter describes the size of the neighborhood around each point. The `min_dist` parameter describes how tightly points can be packed together. The authors recommend values between 2 and 200 for `n_neighbors`, and between 0 and 0.99 for `min_dist`. Try a range of different values in and outside of these ranges and discuss the results with your group.\n",
    "\n",
    "Play around with the `min_dist` and `n_neighbors` parameters."
   ]
  },
  {
   "cell_type": "code",
   "execution_count": null,
   "metadata": {},
   "outputs": [],
   "source": [
    "import umap\n",
    "data_umap = umap.UMAP().fit_transform(data_pca.iloc[:,:50])"
   ]
  },
  {
   "cell_type": "code",
   "execution_count": null,
   "metadata": {},
   "outputs": [],
   "source": [
    "data_umap = pd.DataFrame(data_umap, index = data.index)"
   ]
  },
  {
   "cell_type": "code",
   "execution_count": null,
   "metadata": {},
   "outputs": [],
   "source": [
    "# ================\n",
    "# As you did with t-SNE, plot the UMAP coordinates\n",
    "# colored by time point\n",
    "scprep.plot.scatter2d(\n",
    "# ================"
   ]
  },
  {
   "cell_type": "markdown",
   "metadata": {
    "colab_type": "text",
    "id": "oIqB8h9Ytotq"
   },
   "source": [
    "#### Let's look at some marker genes!"
   ]
  },
  {
   "cell_type": "code",
   "execution_count": null,
   "metadata": {
    "colab": {
     "base_uri": "https://localhost:8080/",
     "height": 297
    },
    "colab_type": "code",
    "id": "p06QCJ__totr",
    "outputId": "5b6c6870-756f-40d4-91fc-bef409032d59"
   },
   "outputs": [],
   "source": [
    "genes_for_plotting = ['ACTB', 'SOX10', 'HAND1']\n",
    "# ================\n",
    "# As you did with t-SNE, plot three subplots of the UMAP coordinates\n",
    "# coloring by ACTB, SOX10 and HAND1\n",
    "fig, axes = \n",
    "\n",
    "for gene, ax in zip(genes_for_plotting, axes.flatten()):\n",
    "    gene_full_name = \n",
    "    expression = \n",
    "    \n",
    "    sort_index = \n",
    "    \n",
    "    scprep.plot.scatter2d(\n",
    "# ================\n",
    "\n",
    "fig.tight_layout()"
   ]
  },
  {
   "cell_type": "markdown",
   "metadata": {},
   "source": [
    "### Discussion\n",
    "\n",
    "What are the similarities and differences between UMAP and t-SNE? Do you notice any parameter choices that seem to have similar effects between the algorithms?\n",
    "\n",
    "**Note Dan/Scott**: This part is kind of repetitive between multiple notebooks under dimensionality reduction.  Can we move this or remove this to make the notebooks non-repetitive.\n",
    "\n",
    "#### _Breakpoint_  - once you get here, please help those around you!"
   ]
  },
  {
   "cell_type": "markdown",
   "metadata": {
    "colab_type": "text",
    "id": "40Q8O7RaacX9"
   },
   "source": [
    "## 3.4. Embedding Data Using PHATE"
   ]
  },
  {
   "cell_type": "markdown",
   "metadata": {
    "colab_type": "text",
    "id": "nblKpF4Gtot2"
   },
   "source": [
    "#### How does PHATE work?\n",
    "\n",
    "PHATE is a dimensionaltiy reduction developed by the Krishnaswamy lab for visualizing high-dimensional data. We use PHATE for *every* dataset the comes through the lab: scRNA-seq, CyTOF, gut microbiome profiles, simulated data, etc. PHATE was designed to handle noisy, non-linear relationships between data points. PHATE produces a low-dimensional representation that preserves both local and global structure in a dataset so that you can make generate hypotheses from the plot about the relationships between cells present in a dataset. Although PHATE has utility for analysis of many data modalities, we will focus on the application of PHATE for scRNA-seq analysis.\n",
    "\n",
    "PHATE is inspired by diffusion maps [(Coifman et al. 2008.)](https://doi.org/10.1016/j.acha.2006.04.006), but include several key innovations that make it possible to generate a two or three dimensional visualization that preserves continuous relationships between cells where they exist. For a full explanation of the PHATE algorithm, please consult [the PHATE manuscript](https://doi.org/10.1101/120378). **Note Dan/Scott Update the link to published paper**"
   ]
  },
  {
   "cell_type": "markdown",
   "metadata": {
    "colab_type": "text",
    "id": "zAqSdPUZacX9"
   },
   "source": [
    "#### Using the PHATE estimator\n",
    "\n",
    "The API of PHATE models that of Scikit Learn. First, you instantiate a PHATE estimator object with the parameters for fitting the PHATE embedding to a given dataset. Next, you use the `fit` and `fit_transform` functions to generate an embedding. For more information, check out [**the PHATE readthedocs page**](http://phate.readthedocs.io/).\n",
    "\n",
    "Like tSNE, PHATE has it's own set of hyperparameters. Changing the parameters will greatly change the output of the algorithm. We reccomend starting with the defaults, then change `knn` and `decay` according the reccomendations below. Generally, we won't select `t` ourselves, but if you're tuning hyperparameters, it's best to fix `t`.\n",
    "\n",
    "* `knn` : Number of nearest neighbors (default: 5). Increase this (e.g. to 20) if your PHATE embedding appears very disconnected. You should also consider increasing `k` if your dataset is extremely large (e.g. >100k cells)\n",
    "* `decay` : Alpha decay (default: 15). Decreasing `a` increases connectivity on the graph, increasing `a` decreases connectivity. This rarely needs to be tuned. Set it to `None` for a k-nearest neighbors kernel.\n",
    "* `t` : Number of times to power the operator (default: 'auto'). This is equivalent to the amount of smoothing done to the data. It is chosen automatically by default, but you can increase it if your embedding lacks structure, or decrease it if the structure looks too compact.\n",
    "* `gamma` : Informational distance constant (default: 1). `gamma=1` gives the PHATE log potential, but other informational distances can be interesting. If most of the points seem concentrated in one section of the plot, you can try `gamma=0`.\n",
    "\n",
    "**Note Dan/Scott**: Havent the names of some parameters changed in the final version.  I only remember this vaguely, please ignore if it is not accurate."
   ]
  },
  {
   "cell_type": "markdown",
   "metadata": {
    "colab_type": "text",
    "id": "UYa8Ze3pacX-"
   },
   "source": [
    "Here's the simplest way to apply PHATE. Running this should take ~1-3 minutes."
   ]
  },
  {
   "cell_type": "code",
   "execution_count": null,
   "metadata": {
    "colab": {
     "base_uri": "https://localhost:8080/",
     "height": 386
    },
    "colab_type": "code",
    "id": "qp2cPaVSacX_",
    "outputId": "706dcd1f-9deb-4fab-b3f5-d9bee55deb67"
   },
   "outputs": [],
   "source": [
    "phate_op = phate.PHATE(knn=5, n_jobs=-2)\n",
    "\n",
    "data_phate = phate_op.fit_transform(data_pca.iloc[:,:50])\n",
    "data_phate = pd.DataFrame(data_phate, index=data.index)"
   ]
  },
  {
   "cell_type": "markdown",
   "metadata": {
    "colab_type": "text",
    "id": "ywl3M_N6acYB"
   },
   "source": [
    "And then we plot using `scprep.plot.scatter2d`. For more advanced plotting, we recommend Matplotlib. If you want more help on using Matplotlib, they have [**extensive documentation**](https://matplotlib.org/tutorials/index.html) and [**many Stackoverflow threads**](https://stackoverflow.com/questions/tagged/matplotlib)."
   ]
  },
  {
   "cell_type": "code",
   "execution_count": null,
   "metadata": {
    "colab": {
     "base_uri": "https://localhost:8080/",
     "height": 502
    },
    "colab_type": "code",
    "id": "RdWLNihIacYC",
    "outputId": "a13dbf7e-e27a-49ae-dc02-549d8e55ac77"
   },
   "outputs": [],
   "source": [
    "# ================\n",
    "# As you did with t-SNE and UMAP, plot the PHATE coordinates\n",
    "# colored by time point\n",
    "\n",
    "# ================"
   ]
  },
  {
   "cell_type": "markdown",
   "metadata": {
    "colab_type": "text",
    "id": "XRwKud0ytouM"
   },
   "source": [
    "#### Gene visualization"
   ]
  },
  {
   "cell_type": "code",
   "execution_count": null,
   "metadata": {
    "colab": {
     "base_uri": "https://localhost:8080/",
     "height": 317
    },
    "colab_type": "code",
    "id": "x8o21qPJtouM",
    "outputId": "96647e25-e1a2-4bca-956b-13269557ab44"
   },
   "outputs": [],
   "source": [
    "# ================\n",
    "# As you did with t-SNE and UMAP, plot three subplots of the PHATE coordinates\n",
    "# coloring by ACTB, SOX10 and HAND1\n",
    "\n",
    "# ================"
   ]
  },
  {
   "cell_type": "markdown",
   "metadata": {
    "colab_type": "text",
    "id": "esGt9b7vtouO"
   },
   "source": [
    "### Discussion\n",
    "\n",
    "In groups, discuss the following questions:\n",
    "1. In a dataset with trajectories, how well does each method perform?\n",
    "2. Now that you've seen all the methods, how might you include them in a workflow?\n",
    "3. What are the advantages of each method?\n",
    "4. If you didn't know if your data contained clusters or trajectories, what would you do?"
   ]
  }
 ],
 "metadata": {
  "colab": {
   "collapsed_sections": [],
   "name": "03_dimensionality-reduction_eb-data.ipynb",
   "provenance": []
  },
  "kernelspec": {
   "display_name": "Python 3",
   "language": "python",
   "name": "python3"
  },
  "language_info": {
   "codemirror_mode": {
    "name": "ipython",
    "version": 3
   },
   "file_extension": ".py",
   "mimetype": "text/x-python",
   "name": "python",
   "nbconvert_exporter": "python",
   "pygments_lexer": "ipython3",
   "version": "3.7.7"
  }
 },
 "nbformat": 4,
 "nbformat_minor": 1
}
