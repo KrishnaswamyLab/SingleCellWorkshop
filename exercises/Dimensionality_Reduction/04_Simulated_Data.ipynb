{
 "cells": [
  {
   "cell_type": "markdown",
   "metadata": {},
   "source": [
    "# Evaluating dimensionality reduction methods on simulated data"
   ]
  },
  {
   "cell_type": "markdown",
   "metadata": {},
   "source": [
    "## Generate Synthetic Data with Known Ground Truth\n",
    "\n",
    "### Introduction to Splatter\n",
    "\n",
    "Splatter, [Zappia L, et al. Genome Biology. 2017](https://doi.org/10.1186/s13059-017-1305-0), is a tool for simulating single-cell RNA-sequencing data with a known topology. Splatter has two main modes: \"paths\" and \"groups.\" Because we're interested in generating data with a known trajectory structure, we are going to use the `paths` mode.\n",
    "\n",
    "Splatter has a bunch of other parameters you can choose from, and if you have time, feel free to play around with the various options.\n"
   ]
  },
  {
   "cell_type": "code",
   "execution_count": null,
   "metadata": {},
   "outputs": [],
   "source": [
    "!pip install --user scprep phate umap-learn"
   ]
  },
  {
   "cell_type": "markdown",
   "metadata": {},
   "source": [
    "### Imports"
   ]
  },
  {
   "cell_type": "code",
   "execution_count": null,
   "metadata": {},
   "outputs": [],
   "source": [
    "import numpy as np\n",
    "import pandas as pd\n",
    "import matplotlib.pyplot as plt\n",
    "%matplotlib inline\n",
    "\n",
    "import scprep\n",
    "import phate\n",
    "import umap\n",
    "import sklearn.manifold"
   ]
  },
  {
   "cell_type": "markdown",
   "metadata": {},
   "source": [
    "In order to save time, we've precompiled all the necessary R packages. You can download and install them by running the code below. If you were running this without precompiled packages, you could install Splatter by running the following code:\n",
    "\n",
    "```python\n",
    "import scprep\n",
    "scprep.run.splatter.install()\n",
    "```"
   ]
  },
  {
   "cell_type": "code",
   "execution_count": null,
   "metadata": {},
   "outputs": [],
   "source": [
    "scprep.io.download.download_google_drive('1VuddKA7Xa23NAFKvRUmtuND16eEMHL9z',\n",
    "                                         '/content/r_packages.tar.gz')\n",
    "!tar xzf /content/r_packages.tar.gz && rm /content/r_packages.tar.gz\n",
    "!apt-get install -yqq libgsl-dev=2.4+dfsg-6\n",
    "!pip install --user --upgrade rpy2\n",
    "!echo \"R_LIBS_USER='/content/.r_packages'\" >> ~/.Renviron\n",
    "!R -e \"BiocManager::install('splatter')\""
   ]
  },
  {
   "cell_type": "markdown",
   "metadata": {},
   "source": [
    "### Generating simulated data\n",
    "\n",
    "Splatter is only implemented in R. Fortunately, we provide a wrapper in the `scprep.run` module. You can call Splatter from Python using [`scprep.run.SplatSimulate()`](https://scprep.readthedocs.io/en/stable/reference.html#scprep.run.SplatSimulate)."
   ]
  },
  {
   "cell_type": "code",
   "execution_count": null,
   "metadata": {},
   "outputs": [],
   "source": [
    "sim = scprep.run.SplatSimulate(method='paths', batch_cells=3000, \n",
    "                               path_from=[0, 0, 1, 1, 2, 2], group_prob=[0.1, 0.2, 0.3, 0.2, 0.1, 0.1])"
   ]
  },
  {
   "cell_type": "code",
   "execution_count": null,
   "metadata": {},
   "outputs": [],
   "source": [
    "data_sim = scprep.normalize.library_size_normalize(sim['counts'])"
   ]
  },
  {
   "cell_type": "code",
   "execution_count": null,
   "metadata": {},
   "outputs": [],
   "source": [
    "data_sim = scprep.transform.sqrt(data_sim)"
   ]
  },
  {
   "cell_type": "markdown",
   "metadata": {},
   "source": [
    "### Exercise - run PCA, t-SNE, UMAP and PHATE on the simulated data"
   ]
  },
  {
   "cell_type": "code",
   "execution_count": null,
   "metadata": {},
   "outputs": [],
   "source": [
    "# =================\n",
    "# Run PCA to 100 components\n",
    "data_pca =\n",
    "# Run t-SNE on the PCA\n",
    "data_tsne = \n",
    "# Run UMAP on the PCA\n",
    "data_umap =\n",
    "# Run PHATE on the PCA\n",
    "data_phate =\n",
    "# ================="
   ]
  },
  {
   "cell_type": "code",
   "execution_count": null,
   "metadata": {},
   "outputs": [],
   "source": [
    "fig, axes = plt.subplots(1, 4, figsize=(20, 5))\n",
    "scprep.plot.scatter2d(data_pca, c=sim['group'], ax=axes[0],\n",
    "                     ticks=False, label_prefix=\"PC\")\n",
    "scprep.plot.scatter2d(data_tsne, c=sim['group'], ax=axes[1],\n",
    "                     ticks=False, label_prefix=\"t-SNE\")\n",
    "scprep.plot.scatter2d(data_umap, c=sim['group'], ax=axes[2],\n",
    "                     ticks=False, label_prefix=\"UMAP\")\n",
    "scprep.plot.scatter2d(data_phate, c=sim['group'], ax=axes[3],\n",
    "                     ticks=False, label_prefix=\"PHATE\")\n",
    "plt.tight_layout()"
   ]
  },
  {
   "cell_type": "markdown",
   "metadata": {},
   "source": [
    "Notice that t-SNE, UMAP and PHATE all successfully capture the branch structure, while PCA collapses multiple branches on top of each other. Discuss why this may be with your group."
   ]
  },
  {
   "cell_type": "markdown",
   "metadata": {},
   "source": [
    "### Exercise - exploring different data structures\n",
    "\n",
    "In pairs, determine a set of parameters for each of the following conditions\n",
    "1. Datasets that look good on all four visualizations\n",
    "2. Datasets that look bad for at least two of the visualizations\n",
    "3. Datasets that look bad for all of the visualizations\n",
    "\n",
    "Can you figure out the best way to \"break\" each method?\n",
    "\n",
    "You can see the possible simulation parameters you can tune using `help(scprep.run.SplatSimulate)` or reading the [`scprep.run` documentation](https://scprep.readthedocs.io/en/stable/reference.html#module-scprep.run.splatter) online."
   ]
  },
  {
   "cell_type": "code",
   "execution_count": null,
   "metadata": {},
   "outputs": [],
   "source": [
    "help(scprep.run.SplatSimulate)"
   ]
  },
  {
   "cell_type": "code",
   "execution_count": null,
   "metadata": {},
   "outputs": [],
   "source": [
    "# ============\n",
    "# Run scprep.run.SplatSimulate with varied parameters\n",
    "sim = \n",
    "# Preprocess the data\n",
    "data_sim = \n",
    "data_sim = \n",
    "# Run PCA to 100 components\n",
    "data_pca =\n",
    "# Run t-SNE on the PCA\n",
    "data_tsne = \n",
    "# Run UMAP on the PCA\n",
    "data_umap =\n",
    "# Run PHATE on the PCA\n",
    "data_phate =\n",
    "# Plot the output\n",
    "fig, axes = plt.subplots(1, 4, figsize=(20, 5))\n",
    "scprep.plot.scatter2d(\n",
    "scprep.plot.scatter2d(\n",
    "scprep.plot.scatter2d(\n",
    "scprep.plot.scatter2d(\n",
    "plt.tight_layout()\n",
    "# ============"
   ]
  }
 ],
 "metadata": {
  "kernelspec": {
   "display_name": "Python 3",
   "language": "python",
   "name": "python3"
  },
  "language_info": {
   "codemirror_mode": {
    "name": "ipython",
    "version": 3
   },
   "file_extension": ".py",
   "mimetype": "text/x-python",
   "name": "python",
   "nbconvert_exporter": "python",
   "pygments_lexer": "ipython3",
   "version": "3.7.7"
  }
 },
 "nbformat": 4,
 "nbformat_minor": 2
}
